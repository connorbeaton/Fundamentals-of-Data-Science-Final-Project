{
  "nbformat": 4,
  "nbformat_minor": 0,
  "metadata": {
    "colab": {
      "provenance": [],
      "collapsed_sections": []
    },
    "kernelspec": {
      "name": "python3",
      "display_name": "Python 3"
    },
    "language_info": {
      "name": "python"
    }
  },
  "cells": [
    {
      "cell_type": "code",
      "metadata": {
        "id": "E1V-xB7R2rWi"
      },
      "source": [
        "import matplotlib.pyplot as plt\n",
        "%matplotlib inline\n",
        "import numpy as np\n",
        "import pandas as pd\n",
        "import random as random\n",
        "import seaborn as sns\n",
        "from sklearn.model_selection import train_test_split\n",
        "from sklearn.neighbors import KNeighborsClassifier\n",
        "from sklearn.model_selection import cross_val_score\n",
        "from sklearn.model_selection import KFold\n",
        "from sklearn.linear_model import LinearRegression\n",
        "import seaborn as sns\n",
        "from sklearn.linear_model import LogisticRegression"
      ],
      "execution_count": null,
      "outputs": []
    },
    {
      "cell_type": "code",
      "metadata": {
        "id": "ZRUl6UAr28_o"
      },
      "source": [
        "wine_data = pd.read_csv(\"winequalityN.csv\")\n"
      ],
      "execution_count": null,
      "outputs": []
    },
    {
      "cell_type": "code",
      "metadata": {
        "id": "AEVxQYOK4MCN",
        "colab": {
          "base_uri": "https://localhost:8080/",
          "height": 443
        },
        "outputId": "27c14194-aff1-4269-a52c-87ee7703deba"
      },
      "source": [
        "wine_data = wine_data.dropna()\n",
        "wine_data\n"
      ],
      "execution_count": null,
      "outputs": [
        {
          "output_type": "execute_result",
          "data": {
            "text/html": [
              "<div>\n",
              "<style scoped>\n",
              "    .dataframe tbody tr th:only-of-type {\n",
              "        vertical-align: middle;\n",
              "    }\n",
              "\n",
              "    .dataframe tbody tr th {\n",
              "        vertical-align: top;\n",
              "    }\n",
              "\n",
              "    .dataframe thead th {\n",
              "        text-align: right;\n",
              "    }\n",
              "</style>\n",
              "<table border=\"1\" class=\"dataframe\">\n",
              "  <thead>\n",
              "    <tr style=\"text-align: right;\">\n",
              "      <th></th>\n",
              "      <th>type</th>\n",
              "      <th>fixed_acidity</th>\n",
              "      <th>volatile_acidity</th>\n",
              "      <th>citric_acid</th>\n",
              "      <th>residual_sugar</th>\n",
              "      <th>chlorides</th>\n",
              "      <th>free_sulfur_dioxide</th>\n",
              "      <th>total_sulfur_dioxide</th>\n",
              "      <th>density</th>\n",
              "      <th>pH</th>\n",
              "      <th>sulphates</th>\n",
              "      <th>alcohol</th>\n",
              "      <th>quality</th>\n",
              "    </tr>\n",
              "  </thead>\n",
              "  <tbody>\n",
              "    <tr>\n",
              "      <th>0</th>\n",
              "      <td>white</td>\n",
              "      <td>7.0</td>\n",
              "      <td>0.270</td>\n",
              "      <td>0.36</td>\n",
              "      <td>20.7</td>\n",
              "      <td>0.045</td>\n",
              "      <td>45.0</td>\n",
              "      <td>170.0</td>\n",
              "      <td>1.00100</td>\n",
              "      <td>3.00</td>\n",
              "      <td>0.45</td>\n",
              "      <td>8.8</td>\n",
              "      <td>6</td>\n",
              "    </tr>\n",
              "    <tr>\n",
              "      <th>1</th>\n",
              "      <td>white</td>\n",
              "      <td>6.3</td>\n",
              "      <td>0.300</td>\n",
              "      <td>0.34</td>\n",
              "      <td>1.6</td>\n",
              "      <td>0.049</td>\n",
              "      <td>14.0</td>\n",
              "      <td>132.0</td>\n",
              "      <td>0.99400</td>\n",
              "      <td>3.30</td>\n",
              "      <td>0.49</td>\n",
              "      <td>9.5</td>\n",
              "      <td>6</td>\n",
              "    </tr>\n",
              "    <tr>\n",
              "      <th>2</th>\n",
              "      <td>white</td>\n",
              "      <td>8.1</td>\n",
              "      <td>0.280</td>\n",
              "      <td>0.40</td>\n",
              "      <td>6.9</td>\n",
              "      <td>0.050</td>\n",
              "      <td>30.0</td>\n",
              "      <td>97.0</td>\n",
              "      <td>0.99510</td>\n",
              "      <td>3.26</td>\n",
              "      <td>0.44</td>\n",
              "      <td>10.1</td>\n",
              "      <td>6</td>\n",
              "    </tr>\n",
              "    <tr>\n",
              "      <th>3</th>\n",
              "      <td>white</td>\n",
              "      <td>7.2</td>\n",
              "      <td>0.230</td>\n",
              "      <td>0.32</td>\n",
              "      <td>8.5</td>\n",
              "      <td>0.058</td>\n",
              "      <td>47.0</td>\n",
              "      <td>186.0</td>\n",
              "      <td>0.99560</td>\n",
              "      <td>3.19</td>\n",
              "      <td>0.40</td>\n",
              "      <td>9.9</td>\n",
              "      <td>6</td>\n",
              "    </tr>\n",
              "    <tr>\n",
              "      <th>4</th>\n",
              "      <td>white</td>\n",
              "      <td>7.2</td>\n",
              "      <td>0.230</td>\n",
              "      <td>0.32</td>\n",
              "      <td>8.5</td>\n",
              "      <td>0.058</td>\n",
              "      <td>47.0</td>\n",
              "      <td>186.0</td>\n",
              "      <td>0.99560</td>\n",
              "      <td>3.19</td>\n",
              "      <td>0.40</td>\n",
              "      <td>9.9</td>\n",
              "      <td>6</td>\n",
              "    </tr>\n",
              "    <tr>\n",
              "      <th>...</th>\n",
              "      <td>...</td>\n",
              "      <td>...</td>\n",
              "      <td>...</td>\n",
              "      <td>...</td>\n",
              "      <td>...</td>\n",
              "      <td>...</td>\n",
              "      <td>...</td>\n",
              "      <td>...</td>\n",
              "      <td>...</td>\n",
              "      <td>...</td>\n",
              "      <td>...</td>\n",
              "      <td>...</td>\n",
              "      <td>...</td>\n",
              "    </tr>\n",
              "    <tr>\n",
              "      <th>6491</th>\n",
              "      <td>red</td>\n",
              "      <td>6.8</td>\n",
              "      <td>0.620</td>\n",
              "      <td>0.08</td>\n",
              "      <td>1.9</td>\n",
              "      <td>0.068</td>\n",
              "      <td>28.0</td>\n",
              "      <td>38.0</td>\n",
              "      <td>0.99651</td>\n",
              "      <td>3.42</td>\n",
              "      <td>0.82</td>\n",
              "      <td>9.5</td>\n",
              "      <td>6</td>\n",
              "    </tr>\n",
              "    <tr>\n",
              "      <th>6492</th>\n",
              "      <td>red</td>\n",
              "      <td>6.2</td>\n",
              "      <td>0.600</td>\n",
              "      <td>0.08</td>\n",
              "      <td>2.0</td>\n",
              "      <td>0.090</td>\n",
              "      <td>32.0</td>\n",
              "      <td>44.0</td>\n",
              "      <td>0.99490</td>\n",
              "      <td>3.45</td>\n",
              "      <td>0.58</td>\n",
              "      <td>10.5</td>\n",
              "      <td>5</td>\n",
              "    </tr>\n",
              "    <tr>\n",
              "      <th>6494</th>\n",
              "      <td>red</td>\n",
              "      <td>6.3</td>\n",
              "      <td>0.510</td>\n",
              "      <td>0.13</td>\n",
              "      <td>2.3</td>\n",
              "      <td>0.076</td>\n",
              "      <td>29.0</td>\n",
              "      <td>40.0</td>\n",
              "      <td>0.99574</td>\n",
              "      <td>3.42</td>\n",
              "      <td>0.75</td>\n",
              "      <td>11.0</td>\n",
              "      <td>6</td>\n",
              "    </tr>\n",
              "    <tr>\n",
              "      <th>6495</th>\n",
              "      <td>red</td>\n",
              "      <td>5.9</td>\n",
              "      <td>0.645</td>\n",
              "      <td>0.12</td>\n",
              "      <td>2.0</td>\n",
              "      <td>0.075</td>\n",
              "      <td>32.0</td>\n",
              "      <td>44.0</td>\n",
              "      <td>0.99547</td>\n",
              "      <td>3.57</td>\n",
              "      <td>0.71</td>\n",
              "      <td>10.2</td>\n",
              "      <td>5</td>\n",
              "    </tr>\n",
              "    <tr>\n",
              "      <th>6496</th>\n",
              "      <td>red</td>\n",
              "      <td>6.0</td>\n",
              "      <td>0.310</td>\n",
              "      <td>0.47</td>\n",
              "      <td>3.6</td>\n",
              "      <td>0.067</td>\n",
              "      <td>18.0</td>\n",
              "      <td>42.0</td>\n",
              "      <td>0.99549</td>\n",
              "      <td>3.39</td>\n",
              "      <td>0.66</td>\n",
              "      <td>11.0</td>\n",
              "      <td>6</td>\n",
              "    </tr>\n",
              "  </tbody>\n",
              "</table>\n",
              "<p>6463 rows × 13 columns</p>\n",
              "</div>"
            ],
            "text/plain": [
              "       type  fixed_acidity  volatile_acidity  ...  sulphates  alcohol  quality\n",
              "0     white            7.0             0.270  ...       0.45      8.8        6\n",
              "1     white            6.3             0.300  ...       0.49      9.5        6\n",
              "2     white            8.1             0.280  ...       0.44     10.1        6\n",
              "3     white            7.2             0.230  ...       0.40      9.9        6\n",
              "4     white            7.2             0.230  ...       0.40      9.9        6\n",
              "...     ...            ...               ...  ...        ...      ...      ...\n",
              "6491    red            6.8             0.620  ...       0.82      9.5        6\n",
              "6492    red            6.2             0.600  ...       0.58     10.5        5\n",
              "6494    red            6.3             0.510  ...       0.75     11.0        6\n",
              "6495    red            5.9             0.645  ...       0.71     10.2        5\n",
              "6496    red            6.0             0.310  ...       0.66     11.0        6\n",
              "\n",
              "[6463 rows x 13 columns]"
            ]
          },
          "metadata": {},
          "execution_count": 3
        }
      ]
    },
    {
      "cell_type": "code",
      "metadata": {
        "colab": {
          "base_uri": "https://localhost:8080/"
        },
        "id": "eyOlMyXL5IHp",
        "outputId": "15462e56-1c7d-469c-b978-267e6b2a10c5"
      },
      "source": [
        "numWhite = wine_data[wine_data[\"type\"] == \"white\"].shape[0]\n",
        "numWhite"
      ],
      "execution_count": null,
      "outputs": [
        {
          "output_type": "execute_result",
          "data": {
            "text/plain": [
              "4870"
            ]
          },
          "metadata": {},
          "execution_count": 4
        }
      ]
    },
    {
      "cell_type": "code",
      "metadata": {
        "id": "dYQIJoXj7cM3"
      },
      "source": [
        "numRed = wine_data[wine_data[\"type\"] == \"red\"].shape[0]\n",
        "numRed\n",
        "wine_table = wine_data\n"
      ],
      "execution_count": null,
      "outputs": []
    },
    {
      "cell_type": "code",
      "metadata": {
        "id": "iQG4O-HhFX5K",
        "colab": {
          "base_uri": "https://localhost:8080/"
        },
        "outputId": "a408f0c4-8b00-4266-c5c6-23acb1b3c05c"
      },
      "source": [
        "# Average Fixed Acidity - MAJOR DIFFERENCE\n",
        "#print(\"fixed acid\")\n",
        "avg_white_fix_acidity = wine_table[wine_table[\"type\"] == \"white\"].fixed_acidity.mean()\n",
        "print(\"White:\", avg_white_fix_acidity)\n",
        "avg_red_fix_acidity = wine_table[wine_table[\"type\"] == \"red\"].fixed_acidity.mean()\n",
        "print(\"Red:\", avg_red_fix_acidity)\n",
        "\n",
        "# Average Volatile Acidity - MAJOR DIFFERENCE\n",
        "#print(\"vol acid\")\n",
        "avg_white_fix_acidity = wine_table[wine_table[\"type\"] == \"white\"].volatile_acidity.mean()\n",
        "print(\"White:\", avg_white_fix_acidity)\n",
        "avg_red_fix_acidity = wine_table[wine_table[\"type\"] == \"red\"].volatile_acidity.mean()\n",
        "print(\"Red:\", avg_red_fix_acidity)\n",
        "\n",
        "# Average Citric Acid - SMALL DIFFERENCE\n",
        "avg_white_fix_acidity = wine_table[wine_table[\"type\"] == \"white\"].citric_acid.mean()\n",
        "print(\"White:\", avg_white_fix_acidity)\n",
        "avg_red_fix_acidity = wine_table[wine_table[\"type\"] == \"red\"].citric_acid.mean()\n",
        "print(\"Red:\", avg_red_fix_acidity)\n",
        "\n",
        "# Average Residual Sugars - MAJOR DIFFERENCE\n",
        "#print(\"Sugars\")\n",
        "avg_white_fix_acidity = wine_table[wine_table[\"type\"] == \"white\"].residual_sugar.mean()\n",
        "print(\"White:\", avg_white_fix_acidity)\n",
        "avg_red_fix_acidity = wine_table[wine_table[\"type\"] == \"red\"].residual_sugar.mean()\n",
        "print(\"Red:\", avg_red_fix_acidity)\n",
        "\n",
        "# Average Chlorides - MAJOR DIFFERENCE\n",
        "#print(\"chlorides\")\n",
        "avg_white_fix_acidity = wine_table[wine_table[\"type\"] == \"white\"].chlorides.mean()\n",
        "print(\"White:\", avg_white_fix_acidity)\n",
        "avg_red_fix_acidity = wine_table[wine_table[\"type\"] == \"red\"].chlorides.mean()\n",
        "print(\"Red:\", avg_red_fix_acidity)\n",
        "\n",
        "# Average Total Sulfur Dioxide - MAJOR DIFFERENCE\n",
        "#print(\"sulfer dioxide\")\n",
        "avg_white_fix_acidity = wine_table[wine_table[\"type\"] == \"white\"].total_sulfur_dioxide.mean()\n",
        "print(\"White:\", avg_white_fix_acidity)\n",
        "avg_red_fix_acidity = wine_table[wine_table[\"type\"] == \"red\"].total_sulfur_dioxide.mean()\n",
        "print(\"Red:\", avg_red_fix_acidity)\n",
        "\n",
        "# Average Density - SMALL DIFFERENCE\n",
        "avg_white_fix_acidity = wine_table[wine_table[\"type\"] == \"white\"].density.mean()\n",
        "print(\"White:\", avg_white_fix_acidity)\n",
        "avg_red_fix_acidity = wine_table[wine_table[\"type\"] == \"red\"].density.mean()\n",
        "print(\"Red:\", avg_red_fix_acidity)\n",
        "\n",
        "# Average pH - SMALL DIFFERENCE\n",
        "avg_white_fix_acidity = wine_table[wine_table[\"type\"] == \"white\"].pH.mean()\n",
        "print(\"White:\", avg_white_fix_acidity)\n",
        "avg_red_fix_acidity = wine_table[wine_table[\"type\"] == \"red\"].pH.mean()\n",
        "print(\"Red:\", avg_red_fix_acidity)\n",
        "\n",
        "# Average Sulphates - SMALL DIFFERENCE\n",
        "avg_white_fix_acidity = wine_table[wine_table[\"type\"] == \"white\"].sulphates.mean()\n",
        "print(\"White:\", avg_white_fix_acidity)\n",
        "avg_red_fix_acidity = wine_table[wine_table[\"type\"] == \"red\"].sulphates.mean()\n",
        "print(\"Red:\", avg_red_fix_acidity)\n",
        "\n",
        "# Average Alcohol - SMALL DIFFERENCE\n",
        "avg_white_fix_acidity = wine_table[wine_table[\"type\"] == \"white\"].alcohol.mean()\n",
        "print(\"White:\", avg_white_fix_acidity)\n",
        "avg_red_fix_acidity = wine_table[wine_table[\"type\"] == \"red\"].alcohol.mean()\n",
        "print(\"Red:\", avg_red_fix_acidity)"
      ],
      "execution_count": null,
      "outputs": [
        {
          "output_type": "stream",
          "name": "stdout",
          "text": [
            "White: 6.855123203285401\n",
            "Red: 8.326365348399275\n",
            "White: 0.27807084188911785\n",
            "Red: 0.527658505963591\n",
            "White: 0.3341991786447573\n",
            "Red: 0.27155053358443076\n",
            "White: 6.394342915811101\n",
            "Red: 2.5385122410546157\n",
            "White: 0.045771457905544176\n",
            "Red: 0.0874971751412427\n",
            "White: 138.34014373716633\n",
            "Red: 46.46390458254865\n",
            "White: 0.9940257823408565\n",
            "Red: 0.9967517451349648\n",
            "White: 3.1881540041067744\n",
            "Red: 3.3105900816070304\n",
            "White: 0.48970020533881065\n",
            "Red: 0.6578656622724424\n",
            "White: 10.516772073917489\n",
            "Red: 10.419617074701794\n"
          ]
        }
      ]
    },
    {
      "cell_type": "code",
      "metadata": {
        "id": "j2EDQ_Z-_TS4"
      },
      "source": [
        "#wine_data = wine_data[wine_data[\"type\"] == \"white\"]\n",
        "#wine_data = wine_data[wine_data[\"type\"] == \"red\"]\n",
        "\n",
        "outlier = wine_data[\"residual_sugar\"].max()\n",
        "wine_data = wine_data[wine_data.residual_sugar != outlier]\n",
        "outlier2 = wine_data[\"residual_sugar\"].max()\n",
        "wine_data = wine_data[wine_data.residual_sugar != outlier2]\n",
        "outlier3 = wine_data[\"residual_sugar\"].max()\n",
        "dropped = wine_data[wine_data.residual_sugar != outlier3]\n",
        "\n",
        "\n"
      ],
      "execution_count": null,
      "outputs": []
    },
    {
      "cell_type": "code",
      "metadata": {
        "id": "md1s5sYt4Ok7"
      },
      "source": [
        "#Linear regression Red\n",
        "\n",
        "y = dropped[\"quality\"]\n",
        "x = dropped[\"residual_sugar\"]\n",
        "\n"
      ],
      "execution_count": null,
      "outputs": []
    },
    {
      "cell_type": "code",
      "metadata": {
        "id": "UKLdBYrAaZbu",
        "colab": {
          "base_uri": "https://localhost:8080/",
          "height": 296
        },
        "outputId": "b5ce1267-4a0c-40a1-da0a-ba7c32da2cd4"
      },
      "source": [
        "plt.ylabel(\"Quality\")\n",
        "plt.xlabel(\"residual_sugar\")\n",
        "plt.title(\"residual_sugar vs Quality\")\n",
        "#plt.plot(x,y, \"b--\")\n",
        "plt.scatter(x,y)\n",
        "plt.show()\n",
        "X_train, X_test, y_train, y_test = train_test_split(x, y, test_size=.2, random_state=0)"
      ],
      "execution_count": null,
      "outputs": [
        {
          "output_type": "display_data",
          "data": {
            "image/png": "[encoded data removed]",
            "text/plain": [
              "<Figure size 432x288 with 1 Axes>"
            ]
          },
          "metadata": {
            "needs_background": "light"
          }
        }
      ]
    },
    {
      "cell_type": "code",
      "metadata": {
        "id": "QR-vVHhS5WlO"
      },
      "source": [
        "X_train = X_train.to_numpy().reshape(-1,1)\n",
        "y_train = y_train.to_numpy().reshape(-1,1)\n",
        "reg = LinearRegression()\n",
        "reg = reg.fit(X_train, y_train)\n",
        "\n",
        "\n"
      ],
      "execution_count": null,
      "outputs": []
    },
    {
      "cell_type": "code",
      "metadata": {
        "id": "wMGX4onb5tkq",
        "colab": {
          "base_uri": "https://localhost:8080/",
          "height": 296
        },
        "outputId": "3dd323fe-4e54-4cf0-c12e-6b9248056037"
      },
      "source": [
        "X_test = X_test.to_numpy().reshape(-1,1)\n",
        "plt.ylabel(\"Quality\")\n",
        "plt.xlabel(\"residual_sugar\")\n",
        "plt.title(\"residual_sugar vs Quality\")\n",
        "pred = reg.predict(X_test)\n",
        "plt.plot(X_test, pred, \"r--\")\n",
        "plt.scatter(x,y)\n",
        "\n",
        "plt.show()"
      ],
      "execution_count": null,
      "outputs": [
        {
          "output_type": "display_data",
          "data": {
            "image/png": "[encoded data removed]",
            "text/plain": [
              "<Figure size 432x288 with 1 Axes>"
            ]
          },
          "metadata": {
            "needs_background": "light"
          }
        }
      ]
    },
    {
      "cell_type": "code",
      "metadata": {
        "id": "-M355F4G9Kjv",
        "colab": {
          "base_uri": "https://localhost:8080/"
        },
        "outputId": "99ba6ba4-f343-4329-dbd7-ea861567fd04"
      },
      "source": [
        "#Log regression\n",
        "\n",
        "wine_data = pd.read_csv(\"winequalityN.csv\")\n",
        "\n",
        "wine_data = wine_data[[\"type\", \"quality\"]]\n",
        "wine_data = wine_data.dropna()\n",
        "wine_data[\"type\"] = wine_data[\"type\"].apply(lambda x: 0 if x == \"white\" else 1)\n",
        "\n",
        "\n",
        "print(\"quality\", set(wine_data[\"quality\"])) #quality ranges 3-9\n",
        "\n",
        "x = np.array(wine_data[\"type\"])\n",
        "y = np.array(wine_data[\"quality\"])\n",
        "\n",
        "\n",
        "print(\"X: \", x)\n",
        "print(\"Y: \", y)\n",
        "\n",
        "print(\"Set X: \", set(x))\n",
        "print(\"Set Y: \", set(y))\n",
        "\n",
        "x = x.reshape(-1,1)\n",
        "y = y.reshape(-1,1)\n",
        "\n",
        "# Splitting into train/test\n",
        "X_train, X_test, y_train, y_test = train_test_split(wine_data.drop(\"type\",axis=1), wine_data[\"quality\"],\n",
        "                                                    test_size=.2)\n",
        "\n"
      ],
      "execution_count": null,
      "outputs": [
        {
          "output_type": "stream",
          "name": "stdout",
          "text": [
            "Min quality:  3\n",
            "quality {3, 4, 5, 6, 7, 8, 9}\n",
            "X:  [0 0 0 ... 1 1 1]\n",
            "Y:  [6 6 6 ... 6 5 6]\n",
            "Set X:  {0, 1}\n",
            "Set Y:  {3, 4, 5, 6, 7, 8, 9}\n"
          ]
        }
      ]
    },
    {
      "cell_type": "code",
      "metadata": {
        "id": "7066nGNM9hu5",
        "colab": {
          "base_uri": "https://localhost:8080/"
        },
        "outputId": "36e51446-b09f-4593-e8bd-fab80b707843"
      },
      "source": [
        "\n",
        "log = LogisticRegression()\n",
        "log = log.fit(X_train, y_train)\n",
        "pred = log.predict(X_test)\n",
        "\n",
        "\n"
      ],
      "execution_count": null,
      "outputs": [
        {
          "output_type": "stream",
          "name": "stdout",
          "text": [
            "<class 'pandas.core.frame.DataFrame'>\n"
          ]
        },
        {
          "output_type": "stream",
          "name": "stderr",
          "text": [
            "/usr/local/lib/python3.7/dist-packages/sklearn/linear_model/_logistic.py:818: ConvergenceWarning: lbfgs failed to converge (status=1):\n",
            "STOP: TOTAL NO. of ITERATIONS REACHED LIMIT.\n",
            "\n",
            "Increase the number of iterations (max_iter) or scale the data as shown in:\n",
            "    https://scikit-learn.org/stable/modules/preprocessing.html\n",
            "Please also refer to the documentation for alternative solver options:\n",
            "    https://scikit-learn.org/stable/modules/linear_model.html#logistic-regression\n",
            "  extra_warning_msg=_LOGISTIC_SOLVER_CONVERGENCE_MSG,\n"
          ]
        }
      ]
    },
    {
      "cell_type": "code",
      "metadata": {
        "colab": {
          "base_uri": "https://localhost:8080/"
        },
        "id": "4Q39GnnLNTKQ",
        "outputId": "d61d32dc-4425-41a0-8667-c14cc0f7ef31"
      },
      "source": [
        "print(set(pred))\n",
        "print(set(y_test))"
      ],
      "execution_count": null,
      "outputs": [
        {
          "output_type": "stream",
          "name": "stdout",
          "text": [
            "{4, 5, 6, 7, 8}\n",
            "{3, 4, 5, 6, 7, 8, 9}\n"
          ]
        }
      ]
    },
    {
      "cell_type": "code",
      "metadata": {
        "id": "i93jQEVv96AD",
        "colab": {
          "base_uri": "https://localhost:8080/",
          "height": 297
        },
        "outputId": "cfd42a88-d653-4b0f-af3d-65fab3da9ab9"
      },
      "source": [
        "data = {'y_Predicted': pred,\n",
        "        'y_Actual':    y_test\n",
        "        }\n",
        "\n",
        "df_conf = pd.DataFrame(data, columns=['y_Actual','y_Predicted'])\n",
        "confusion_matrix = pd.crosstab(df_conf['y_Actual'], df_conf['y_Predicted'], rownames=['Actual'], colnames=['Predicted'])\n",
        "\n",
        "sns.heatmap(confusion_matrix, annot=True)"
      ],
      "execution_count": null,
      "outputs": [
        {
          "output_type": "execute_result",
          "data": {
            "text/plain": [
              "<matplotlib.axes._subplots.AxesSubplot at 0x7f5707749290>"
            ]
          },
          "metadata": {},
          "execution_count": 49
        },
        {
          "output_type": "display_data",
          "data": {
            "image/png": "[encoded data removed]",
            "text/plain": [
              "<Figure size 432x288 with 2 Axes>"
            ]
          },
          "metadata": {
            "needs_background": "light"
          }
        }
      ]
    },
    {
      "cell_type": "code",
      "source": [],
      "metadata": {
        "id": "U9yePcDotELg"
      },
      "execution_count": null,
      "outputs": []
    }
  ]
}